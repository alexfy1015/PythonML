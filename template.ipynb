{
 "cells": [
  {
   "cell_type": "markdown",
   "id": "b270171c",
   "metadata": {},
   "source": [
    "# Title"
   ]
  },
  {
   "cell_type": "markdown",
   "id": "fc0a4957",
   "metadata": {},
   "source": [
    "## Import libraries"
   ]
  },
  {
   "cell_type": "code",
   "execution_count": 2,
   "id": "ed688d9b",
   "metadata": {},
   "outputs": [],
   "source": [
    "import numpy as np\n",
    "import pandas as pd"
   ]
  },
  {
   "cell_type": "code",
   "execution_count": null,
   "id": "f66aa1f2",
   "metadata": {},
   "outputs": [],
   "source": [
    "Copy -Item -Path \"D:\\Work\\Career\\Projects\\template.ipynb\" -Destination \"D:\\Work\\Career\\Projects\\PythonML\"\n"
   ]
  },
  {
   "cell_type": "code",
   "execution_count": null,
   "id": "7df6a59e",
   "metadata": {},
   "outputs": [],
   "source": [
    "copy D:/Work/Career/Projects/template.ipynb D:/Work/Career/Projects/PythonML"
   ]
  }
 ],
 "metadata": {
  "kernelspec": {
   "display_name": "Python 3 (Spyder)",
   "language": "python3",
   "name": "python3"
  },
  "language_info": {
   "codemirror_mode": {
    "name": "ipython",
    "version": 3
   },
   "file_extension": ".py",
   "mimetype": "text/x-python",
   "name": "python",
   "nbconvert_exporter": "python",
   "pygments_lexer": "ipython3",
   "version": "3.8.8"
  }
 },
 "nbformat": 4,
 "nbformat_minor": 5
}
